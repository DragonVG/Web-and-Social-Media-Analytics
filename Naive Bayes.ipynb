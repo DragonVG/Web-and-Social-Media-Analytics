{
 "cells": [
  {
   "cell_type": "code",
   "execution_count": null,
   "metadata": {
    "colab": {
     "base_uri": "https://localhost:8080/"
    },
    "id": "awQCRtlBajwU",
    "outputId": "be5daf83-21e4-41ad-f61a-3706136794e7"
   },
   "outputs": [
    {
     "name": "stdout",
     "output_type": "stream",
     "text": [
      "Drive already mounted at /content/drive; to attempt to forcibly remount, call drive.mount(\"/content/drive\", force_remount=True).\n"
     ]
    }
   ],
   "source": [
    "from google.colab import drive\n",
    "\n",
    "drive.mount('/content/drive')"
   ]
  },
  {
   "cell_type": "code",
   "execution_count": null,
   "metadata": {
    "id": "uGZqF3KqGMhp"
   },
   "outputs": [],
   "source": [
    "import pandas as pd\n",
    "import numpy as np\n",
    "\n",
    "import warnings\n",
    "warnings.filterwarnings(\"ignore\")"
   ]
  },
  {
   "cell_type": "markdown",
   "metadata": {
    "id": "-Vj9iAotGRd9"
   },
   "source": [
    "# Reading the data "
   ]
  },
  {
   "cell_type": "code",
   "execution_count": null,
   "metadata": {
    "id": "jbsm5-t3Ha0w"
   },
   "outputs": [],
   "source": [
    "# Reading review_sentiment.csv file which also contains the cleaned review text.\n",
    "df_phonedata_cleaned = pd.read_csv('/content/drive/My Drive/sentiment_analysis/review_sentiment.csv')"
   ]
  },
  {
   "cell_type": "code",
   "execution_count": null,
   "metadata": {
    "colab": {
     "base_uri": "https://localhost:8080/"
    },
    "id": "8WyQh9yghbw6",
    "outputId": "34fd2acc-7c32-4442-e7d5-f1c1bf272177"
   },
   "outputs": [
    {
     "data": {
      "text/plain": [
       "(61946, 13)"
      ]
     },
     "execution_count": 4,
     "metadata": {
      "tags": []
     },
     "output_type": "execute_result"
    }
   ],
   "source": [
    "df_phonedata_cleaned.shape"
   ]
  },
  {
   "cell_type": "code",
   "execution_count": null,
   "metadata": {
    "colab": {
     "base_uri": "https://localhost:8080/",
     "height": 271
    },
    "id": "z0tAPG5lf9wK",
    "outputId": "f2c65845-9ba2-4e2c-b7c9-ec43668c0df0"
   },
   "outputs": [
    {
     "data": {
      "text/html": [
       "<div>\n",
       "<style scoped>\n",
       "    .dataframe tbody tr th:only-of-type {\n",
       "        vertical-align: middle;\n",
       "    }\n",
       "\n",
       "    .dataframe tbody tr th {\n",
       "        vertical-align: top;\n",
       "    }\n",
       "\n",
       "    .dataframe thead th {\n",
       "        text-align: right;\n",
       "    }\n",
       "</style>\n",
       "<table border=\"1\" class=\"dataframe\">\n",
       "  <thead>\n",
       "    <tr style=\"text-align: right;\">\n",
       "      <th></th>\n",
       "      <th>overall</th>\n",
       "      <th>verified</th>\n",
       "      <th>reviewerID</th>\n",
       "      <th>asin</th>\n",
       "      <th>reviewText</th>\n",
       "      <th>asin.1</th>\n",
       "      <th>unixReviewTime</th>\n",
       "      <th>category</th>\n",
       "      <th>also_view</th>\n",
       "      <th>brand</th>\n",
       "      <th>price</th>\n",
       "      <th>review_sentiment</th>\n",
       "      <th>cleaned_reviewText</th>\n",
       "    </tr>\n",
       "  </thead>\n",
       "  <tbody>\n",
       "    <tr>\n",
       "      <th>0</th>\n",
       "      <td>1.0</td>\n",
       "      <td>False</td>\n",
       "      <td>A5JLAU2ARJ0BO</td>\n",
       "      <td>B0000E3GWH</td>\n",
       "      <td>This phone is ugly and heavy and has a terribl...</td>\n",
       "      <td>B0000E3GWH</td>\n",
       "      <td>1095724800</td>\n",
       "      <td>['Cell Phones &amp; Accessories', 'Cell Phones', '...</td>\n",
       "      <td>[]</td>\n",
       "      <td>Samsung</td>\n",
       "      <td>NaN</td>\n",
       "      <td>NEGATIVE</td>\n",
       "      <td>phone ugly heavy terrible user interface techi...</td>\n",
       "    </tr>\n",
       "    <tr>\n",
       "      <th>1</th>\n",
       "      <td>4.0</td>\n",
       "      <td>False</td>\n",
       "      <td>A1ACM1CBGORBN1</td>\n",
       "      <td>B0000E3GWH</td>\n",
       "      <td>I had the Samsung V205 and then I decided to t...</td>\n",
       "      <td>B0000E3GWH</td>\n",
       "      <td>1090627200</td>\n",
       "      <td>['Cell Phones &amp; Accessories', 'Cell Phones', '...</td>\n",
       "      <td>[]</td>\n",
       "      <td>Samsung</td>\n",
       "      <td>NaN</td>\n",
       "      <td>POSITIVE</td>\n",
       "      <td>samsung v205 decided try e715 fyi people batte...</td>\n",
       "    </tr>\n",
       "    <tr>\n",
       "      <th>2</th>\n",
       "      <td>3.0</td>\n",
       "      <td>False</td>\n",
       "      <td>A2V48Q03FZUOSD</td>\n",
       "      <td>B0000E3GWH</td>\n",
       "      <td>This is the first Samsung phone I have had and...</td>\n",
       "      <td>B0000E3GWH</td>\n",
       "      <td>1089072000</td>\n",
       "      <td>['Cell Phones &amp; Accessories', 'Cell Phones', '...</td>\n",
       "      <td>[]</td>\n",
       "      <td>Samsung</td>\n",
       "      <td>NaN</td>\n",
       "      <td>NEGATIVE</td>\n",
       "      <td>samsung phone not measure v300 am tmobile cust...</td>\n",
       "    </tr>\n",
       "  </tbody>\n",
       "</table>\n",
       "</div>"
      ],
      "text/plain": [
       "   overall  ...                                 cleaned_reviewText\n",
       "0      1.0  ...  phone ugly heavy terrible user interface techi...\n",
       "1      4.0  ...  samsung v205 decided try e715 fyi people batte...\n",
       "2      3.0  ...  samsung phone not measure v300 am tmobile cust...\n",
       "\n",
       "[3 rows x 13 columns]"
      ]
     },
     "execution_count": 5,
     "metadata": {
      "tags": []
     },
     "output_type": "execute_result"
    }
   ],
   "source": [
    "df_phonedata_cleaned.head(3)"
   ]
  },
  {
   "cell_type": "code",
   "execution_count": null,
   "metadata": {
    "colab": {
     "base_uri": "https://localhost:8080/",
     "height": 197
    },
    "id": "lh71IlEccQz3",
    "outputId": "9d87201c-649f-42c3-b080-611a408d5545"
   },
   "outputs": [
    {
     "data": {
      "text/html": [
       "<div>\n",
       "<style scoped>\n",
       "    .dataframe tbody tr th:only-of-type {\n",
       "        vertical-align: middle;\n",
       "    }\n",
       "\n",
       "    .dataframe tbody tr th {\n",
       "        vertical-align: top;\n",
       "    }\n",
       "\n",
       "    .dataframe thead th {\n",
       "        text-align: right;\n",
       "    }\n",
       "</style>\n",
       "<table border=\"1\" class=\"dataframe\">\n",
       "  <thead>\n",
       "    <tr style=\"text-align: right;\">\n",
       "      <th></th>\n",
       "      <th>cleaned_reviewText</th>\n",
       "      <th>review_sentiment</th>\n",
       "    </tr>\n",
       "  </thead>\n",
       "  <tbody>\n",
       "    <tr>\n",
       "      <th>0</th>\n",
       "      <td>phone ugly heavy terrible user interface techi...</td>\n",
       "      <td>NEGATIVE</td>\n",
       "    </tr>\n",
       "    <tr>\n",
       "      <th>1</th>\n",
       "      <td>samsung v205 decided try e715 fyi people batte...</td>\n",
       "      <td>POSITIVE</td>\n",
       "    </tr>\n",
       "    <tr>\n",
       "      <th>2</th>\n",
       "      <td>samsung phone not measure v300 am tmobile cust...</td>\n",
       "      <td>NEGATIVE</td>\n",
       "    </tr>\n",
       "    <tr>\n",
       "      <th>3</th>\n",
       "      <td>i'm europe phones networks better samsung curr...</td>\n",
       "      <td>POSITIVE</td>\n",
       "    </tr>\n",
       "    <tr>\n",
       "      <th>4</th>\n",
       "      <td>phone amazingly light camera phone flashlight ...</td>\n",
       "      <td>POSITIVE</td>\n",
       "    </tr>\n",
       "  </tbody>\n",
       "</table>\n",
       "</div>"
      ],
      "text/plain": [
       "                                  cleaned_reviewText review_sentiment\n",
       "0  phone ugly heavy terrible user interface techi...         NEGATIVE\n",
       "1  samsung v205 decided try e715 fyi people batte...         POSITIVE\n",
       "2  samsung phone not measure v300 am tmobile cust...         NEGATIVE\n",
       "3  i'm europe phones networks better samsung curr...         POSITIVE\n",
       "4  phone amazingly light camera phone flashlight ...         POSITIVE"
      ]
     },
     "execution_count": 6,
     "metadata": {
      "tags": []
     },
     "output_type": "execute_result"
    }
   ],
   "source": [
    "#review_df is a dataframe which will hold completely cleaned reviews and the sentiment labels\n",
    "review_df = df_phonedata_cleaned[['cleaned_reviewText','review_sentiment']]\n",
    "review_df.head()"
   ]
  },
  {
   "cell_type": "code",
   "execution_count": null,
   "metadata": {
    "colab": {
     "base_uri": "https://localhost:8080/",
     "height": 197
    },
    "id": "aV6UYE8rNPkY",
    "outputId": "5ca63e5a-e303-4212-9aa4-7b4522bd1eab"
   },
   "outputs": [
    {
     "data": {
      "text/html": [
       "<div>\n",
       "<style scoped>\n",
       "    .dataframe tbody tr th:only-of-type {\n",
       "        vertical-align: middle;\n",
       "    }\n",
       "\n",
       "    .dataframe tbody tr th {\n",
       "        vertical-align: top;\n",
       "    }\n",
       "\n",
       "    .dataframe thead th {\n",
       "        text-align: right;\n",
       "    }\n",
       "</style>\n",
       "<table border=\"1\" class=\"dataframe\">\n",
       "  <thead>\n",
       "    <tr style=\"text-align: right;\">\n",
       "      <th></th>\n",
       "      <th>cleaned_reviewText</th>\n",
       "      <th>review_sentiment</th>\n",
       "      <th>binary_review_sentiment</th>\n",
       "    </tr>\n",
       "  </thead>\n",
       "  <tbody>\n",
       "    <tr>\n",
       "      <th>0</th>\n",
       "      <td>phone ugly heavy terrible user interface techi...</td>\n",
       "      <td>NEGATIVE</td>\n",
       "      <td>0</td>\n",
       "    </tr>\n",
       "    <tr>\n",
       "      <th>1</th>\n",
       "      <td>samsung v205 decided try e715 fyi people batte...</td>\n",
       "      <td>POSITIVE</td>\n",
       "      <td>1</td>\n",
       "    </tr>\n",
       "    <tr>\n",
       "      <th>2</th>\n",
       "      <td>samsung phone not measure v300 am tmobile cust...</td>\n",
       "      <td>NEGATIVE</td>\n",
       "      <td>0</td>\n",
       "    </tr>\n",
       "    <tr>\n",
       "      <th>3</th>\n",
       "      <td>i'm europe phones networks better samsung curr...</td>\n",
       "      <td>POSITIVE</td>\n",
       "      <td>1</td>\n",
       "    </tr>\n",
       "    <tr>\n",
       "      <th>4</th>\n",
       "      <td>phone amazingly light camera phone flashlight ...</td>\n",
       "      <td>POSITIVE</td>\n",
       "      <td>1</td>\n",
       "    </tr>\n",
       "  </tbody>\n",
       "</table>\n",
       "</div>"
      ],
      "text/plain": [
       "                                  cleaned_reviewText  ... binary_review_sentiment\n",
       "0  phone ugly heavy terrible user interface techi...  ...                       0\n",
       "1  samsung v205 decided try e715 fyi people batte...  ...                       1\n",
       "2  samsung phone not measure v300 am tmobile cust...  ...                       0\n",
       "3  i'm europe phones networks better samsung curr...  ...                       1\n",
       "4  phone amazingly light camera phone flashlight ...  ...                       1\n",
       "\n",
       "[5 rows x 3 columns]"
      ]
     },
     "execution_count": 7,
     "metadata": {
      "tags": []
     },
     "output_type": "execute_result"
    }
   ],
   "source": [
    "#Converting string - 'POSITIVE' and 'NEGATIVE' to 1 and 0 respectively as we need numerical labels for further processing\n",
    "review_df['binary_review_sentiment'] = review_df['review_sentiment'].apply(lambda x: 0 if x == 'NEGATIVE' else 1)\n",
    "review_df.head()"
   ]
  },
  {
   "cell_type": "code",
   "execution_count": null,
   "metadata": {
    "colab": {
     "base_uri": "https://localhost:8080/"
    },
    "id": "7-_u8b49CcgF",
    "outputId": "e36fb0da-5785-49dc-8bc9-12473cadc9ad"
   },
   "outputs": [
    {
     "data": {
      "text/plain": [
       "cleaned_reviewText         0\n",
       "review_sentiment           0\n",
       "binary_review_sentiment    0\n",
       "dtype: int64"
      ]
     },
     "execution_count": 8,
     "metadata": {
      "tags": []
     },
     "output_type": "execute_result"
    }
   ],
   "source": [
    "review_df.isnull().sum() # Checking for null values"
   ]
  },
  {
   "cell_type": "code",
   "execution_count": null,
   "metadata": {
    "id": "_RN6dcXiCiYh"
   },
   "outputs": [],
   "source": [
    "# Defining X and y as lists for training the model\n",
    "X = review_df['cleaned_reviewText'].to_list()\n",
    "y = review_df['binary_review_sentiment'].to_list()"
   ]
  },
  {
   "cell_type": "code",
   "execution_count": null,
   "metadata": {
    "id": "Q3yb6NvfeKgH"
   },
   "outputs": [],
   "source": []
  },
  {
   "cell_type": "code",
   "execution_count": null,
   "metadata": {
    "id": "8CWdvFrWeKcj"
   },
   "outputs": [],
   "source": []
  },
  {
   "cell_type": "code",
   "execution_count": null,
   "metadata": {
    "id": "NV36xqOweKZM"
   },
   "outputs": [],
   "source": []
  },
  {
   "cell_type": "code",
   "execution_count": null,
   "metadata": {
    "id": "2ezwGMCFeKT8"
   },
   "outputs": [],
   "source": []
  },
  {
   "cell_type": "code",
   "execution_count": null,
   "metadata": {
    "id": "G5bTLLZ8eKOr"
   },
   "outputs": [],
   "source": []
  },
  {
   "cell_type": "code",
   "execution_count": null,
   "metadata": {
    "id": "FVDQezXreKIj"
   },
   "outputs": [],
   "source": []
  },
  {
   "cell_type": "code",
   "execution_count": null,
   "metadata": {
    "id": "Hg64ldIkeJ8R"
   },
   "outputs": [],
   "source": []
  },
  {
   "cell_type": "markdown",
   "metadata": {
    "id": "3BRlK8GcKm2w"
   },
   "source": [
    "# Building a Naive Bayes model\n",
    "Covert the textual data to numerical features which can later be used to train any ML/AI model. Here we implement the Bag of Words method to extract features out of the text using CountVectorizer."
   ]
  },
  {
   "cell_type": "markdown",
   "metadata": {
    "id": "ppLL0PtJ8Zht"
   },
   "source": [
    "# Model 1\n",
    "\n",
    "\n"
   ]
  },
  {
   "cell_type": "code",
   "execution_count": null,
   "metadata": {
    "id": "8oLEHdJWCibn"
   },
   "outputs": [],
   "source": [
    "# splitting the data into test and train\n",
    "from sklearn.model_selection  import train_test_split\n",
    "X_train, X_test, y_train, y_test = train_test_split(X, y, random_state=1)"
   ]
  },
  {
   "cell_type": "code",
   "execution_count": null,
   "metadata": {
    "colab": {
     "base_uri": "https://localhost:8080/"
    },
    "id": "Zv4IXArBoScl",
    "outputId": "abe5ef24-e026-423f-ad4b-7e144de8f298"
   },
   "outputs": [
    {
     "name": "stdout",
     "output_type": "stream",
     "text": [
      "1    46370\n",
      "0    15576\n",
      "dtype: int64\n"
     ]
    }
   ],
   "source": [
    "#Distribution of the data.\n",
    "print(pd.Series(y).value_counts())"
   ]
  },
  {
   "cell_type": "code",
   "execution_count": null,
   "metadata": {
    "colab": {
     "base_uri": "https://localhost:8080/"
    },
    "id": "vxRCjRl3Lw07",
    "outputId": "c9b66db1-0b55-417b-9190-82f4778068a3"
   },
   "outputs": [
    {
     "name": "stdout",
     "output_type": "stream",
     "text": [
      "Percent of 1s:  74.85551932328157 %\n",
      "Percent of 0s:  25.144480676718434 %\n"
     ]
    }
   ],
   "source": [
    "#Distribution of the data in terms of proportions.\n",
    "print(\"Percent of 1s: \", 100*pd.Series(y).value_counts()[1]/pd.Series(y).value_counts().sum(), \"%\")\n",
    "print(\"Percent of 0s: \", 100*pd.Series(y).value_counts()[0]/pd.Series(y).value_counts().sum(), \"%\")"
   ]
  },
  {
   "cell_type": "code",
   "execution_count": null,
   "metadata": {
    "id": "TJWWRz5P7aXV"
   },
   "outputs": [],
   "source": [
    "# Convert text to features\n",
    "# creating an object of CountVectorizer - vect\n",
    "from sklearn.feature_extraction.text import CountVectorizer\n",
    "vect = CountVectorizer()"
   ]
  },
  {
   "cell_type": "code",
   "execution_count": null,
   "metadata": {
    "colab": {
     "base_uri": "https://localhost:8080/"
    },
    "id": "ZEAF1gbi7bmo",
    "outputId": "9ce6bf16-f60a-4c5e-aa6d-a6a9de77a3a0"
   },
   "outputs": [
    {
     "data": {
      "text/plain": [
       "CountVectorizer(analyzer='word', binary=False, decode_error='strict',\n",
       "                dtype=<class 'numpy.int64'>, encoding='utf-8', input='content',\n",
       "                lowercase=True, max_df=1.0, max_features=None, min_df=1,\n",
       "                ngram_range=(1, 1), preprocessor=None, stop_words=None,\n",
       "                strip_accents=None, token_pattern='(?u)\\\\b\\\\w\\\\w+\\\\b',\n",
       "                tokenizer=None, vocabulary=None)"
      ]
     },
     "execution_count": 14,
     "metadata": {
      "tags": []
     },
     "output_type": "execute_result"
    }
   ],
   "source": [
    "vect.fit(X_train)"
   ]
  },
  {
   "cell_type": "code",
   "execution_count": null,
   "metadata": {
    "colab": {
     "base_uri": "https://localhost:8080/"
    },
    "id": "FS8y4XBS7bvJ",
    "outputId": "f8fbe286-51e5-4466-d37e-c0180d818429"
   },
   "outputs": [
    {
     "data": {
      "text/plain": [
       "{'size': 28994,\n",
       " 'weight': 34760,\n",
       " 'starter': 30157,\n",
       " 'lots': 19545,\n",
       " 'people': 23635,\n",
       " 'like': 19195,\n",
       " 'women': 35188,\n",
       " 'wear': 34692,\n",
       " 'phone': 23886,\n",
       " 'pockets': 24335,\n",
       " 'nokia': 21974,\n",
       " '20': 668,\n",
       " 'appeal': 3976,\n",
       " 'larger': 18790,\n",
       " 'audience': 4473,\n",
       " 'stands': 30128,\n",
       " 'good': 15001,\n",
       " 'geeks': 14625,\n",
       " 'palms': 23264,\n",
       " 'baggy': 5226,\n",
       " 'clothes': 7907,\n",
       " 'great': 15256,\n",
       " 'product': 25008,\n",
       " 'galaxy': 14480,\n",
       " 's4': 27617,\n",
       " 'best': 5705,\n",
       " 'screen': 28053,\n",
       " 'blows': 6046,\n",
       " 'apple': 4002,\n",
       " 'iphone': 17814,\n",
       " '5s': 1803,\n",
       " 'own': 23137,\n",
       " 'love': 19568,\n",
       " 'widgets': 34962,\n",
       " 'excelent': 12629,\n",
       " 'buenisimo': 6600,\n",
       " 'los': 19530,\n",
       " 'recomiendo': 26200,\n",
       " 'ojos': 22479,\n",
       " 'cerrados': 7360,\n",
       " 'update': 33654,\n",
       " '10': 86,\n",
       " '16': 442,\n",
       " 'camera': 6961,\n",
       " 'becoming': 5536,\n",
       " 'issue': 17948,\n",
       " 'using': 33791,\n",
       " 'work': 35240,\n",
       " 'photos': 23955,\n",
       " 'care': 7110,\n",
       " 'am': 3574,\n",
       " 'seriously': 28389,\n",
       " 'considering': 8673,\n",
       " 'getting': 14724,\n",
       " 'changing': 7424,\n",
       " 'plans': 24184,\n",
       " 'continue': 8780,\n",
       " 'mediocre': 20272,\n",
       " 'real': 25985,\n",
       " 'shame': 28513,\n",
       " 'otherwise': 22856,\n",
       " 'lowering': 19592,\n",
       " 'rating': 25883,\n",
       " 'not': 22050,\n",
       " 'deal': 9800,\n",
       " 'upgraded': 33672,\n",
       " 'samsung': 27770,\n",
       " 's3': 27611,\n",
       " 'charging': 7447,\n",
       " 'port': 24471,\n",
       " 'time': 32051,\n",
       " 've': 33976,\n",
       " 'exception': 12672,\n",
       " 'important': 16964,\n",
       " 'phones': 23914,\n",
       " 'buttons': 6777,\n",
       " 'frequently': 14168,\n",
       " 'misjudge': 20765,\n",
       " 'press': 24807,\n",
       " 'wrong': 35392,\n",
       " 'button': 6774,\n",
       " 'pushing': 25437,\n",
       " 'blind': 5968,\n",
       " 'flip': 13752,\n",
       " 'look': 19487,\n",
       " 'average': 4605,\n",
       " 'woman': 35187,\n",
       " 'hands': 15650,\n",
       " 'bit': 5846,\n",
       " 'stretch': 30433,\n",
       " 'reach': 25948,\n",
       " 're': 25946,\n",
       " 'positioning': 24508,\n",
       " 'hand': 15614,\n",
       " 'don': 11078,\n",
       " 'placement': 24159,\n",
       " 'chose': 7627,\n",
       " 'equal': 12255,\n",
       " 'closer': 7898,\n",
       " 'fingers': 13534,\n",
       " 'biggest': 5791,\n",
       " 'disappointment': 10691,\n",
       " 'sub': 30564,\n",
       " 'par': 23328,\n",
       " '15': 391,\n",
       " 'mp': 21187,\n",
       " 'budget': 6590,\n",
       " 'tell': 31550,\n",
       " 'light': 19172,\n",
       " 'meter': 20456,\n",
       " 'simply': 28905,\n",
       " 'properly': 25149,\n",
       " 'multiple': 21316,\n",
       " 'photography': 23950,\n",
       " 'classes': 7783,\n",
       " 'feel': 13352,\n",
       " 'luck': 19637,\n",
       " 'blurry': 6091,\n",
       " 'poorly': 24434,\n",
       " 'lighted': 19174,\n",
       " 'shutter': 28766,\n",
       " 'stays': 30195,\n",
       " 'photo': 23933,\n",
       " 'person': 23777,\n",
       " 'trying': 32765,\n",
       " 'stay': 30192,\n",
       " 'slight': 29149,\n",
       " 'movements': 21167,\n",
       " 'rarely': 25867,\n",
       " 'poor': 24431,\n",
       " 'pass': 23413,\n",
       " 'owned': 23139,\n",
       " 'works': 35267,\n",
       " 'mobile': 20886,\n",
       " '4g': 1567,\n",
       " 'lte': 19627,\n",
       " 'models': 20930,\n",
       " 'price': 24864,\n",
       " 'useful': 33770,\n",
       " 'accessories': 2788,\n",
       " 'protector': 25198,\n",
       " 'recommend': 26208,\n",
       " 'excellent': 12647,\n",
       " 'quality': 25538,\n",
       " 'could': 9046,\n",
       " 'gone': 14992,\n",
       " 'wouldn': 35315,\n",
       " 'pay': 23495,\n",
       " 'can': 6990,\n",
       " 'imagine': 16865,\n",
       " 'expensive': 12850,\n",
       " 'bought': 6303,\n",
       " 'perfection': 23683,\n",
       " 'looks': 19497,\n",
       " 'operates': 22670,\n",
       " 'fine': 13515,\n",
       " 'program': 25053,\n",
       " 'icons': 16699,\n",
       " 'keys': 18444,\n",
       " 'sad': 27681,\n",
       " 'started': 30155,\n",
       " 'happened': 15686,\n",
       " 'razrs': 25928,\n",
       " 'right': 27261,\n",
       " 'awesome': 4655,\n",
       " 'cell': 7303,\n",
       " 'unlocked': 33418,\n",
       " 'perfect': 23676,\n",
       " 'condition': 8502,\n",
       " '100': 87,\n",
       " 'recommended': 26212,\n",
       " 'fast': 13235,\n",
       " 'aesthetically': 3185,\n",
       " 'similar': 28874,\n",
       " 'mini': 20661,\n",
       " 'dont': 11092,\n",
       " 'front': 14228,\n",
       " 'waste': 34598,\n",
       " 'taking': 31258,\n",
       " 'selfie': 28260,\n",
       " 'hard': 15706,\n",
       " 'review': 27155,\n",
       " 'buy': 6785,\n",
       " 'terrible': 31639,\n",
       " 'kept': 18404,\n",
       " 'freezing': 14158,\n",
       " 'losing': 19536,\n",
       " 'calls': 6946,\n",
       " 'accident': 2790,\n",
       " 'pouring': 24568,\n",
       " 'rain': 25789,\n",
       " 'tried': 32647,\n",
       " 'call': 6930,\n",
       " 'insurance': 17514,\n",
       " 'agent': 3258,\n",
       " 'froze': 14241,\n",
       " 'remove': 26658,\n",
       " 'battery': 5415,\n",
       " 'replace': 26749,\n",
       " 'drop': 11315,\n",
       " 'middle': 20553,\n",
       " 'conversation': 8856,\n",
       " 'got': 15080,\n",
       " 'amazon': 3601,\n",
       " 'refund': 26413,\n",
       " 'nice': 21840,\n",
       " 'loved': 19571,\n",
       " 'qwerty': 25664,\n",
       " 'board': 6108,\n",
       " 'wish': 35104,\n",
       " 'worked': 35250,\n",
       " 'liked': 19197,\n",
       " 'ideal': 16713,\n",
       " 'doesn': 11036,\n",
       " 'high': 16088,\n",
       " 'little': 19322,\n",
       " 'below': 5648,\n",
       " 'mid': 20551,\n",
       " 'range': 25835,\n",
       " 'ok': 22481,\n",
       " 'buying': 6790,\n",
       " 'money': 20994,\n",
       " 'speakers': 29724,\n",
       " 'stopped': 30338,\n",
       " 'days': 9767,\n",
       " 'purchase': 25371,\n",
       " 'manufacture': 19957,\n",
       " 'problems': 24960,\n",
       " 'wanna': 34518,\n",
       " 'details': 10347,\n",
       " 'no': 21942,\n",
       " 'smooth': 29321,\n",
       " 'operation': 22672,\n",
       " 'arrived': 4201,\n",
       " 'agreed': 3295,\n",
       " 'packaging': 23192,\n",
       " 'thanks': 31727,\n",
       " 'bien': 5783,\n",
       " 'handheld': 15631,\n",
       " 'computer': 8429,\n",
       " 'bright': 6453,\n",
       " 'direct': 10646,\n",
       " 'sunlight': 30748,\n",
       " 'makes': 19845,\n",
       " 'file': 13463,\n",
       " 'called': 6933,\n",
       " 'reduce': 26321,\n",
       " 'fixes': 13620,\n",
       " 'bad': 5201,\n",
       " 'pretty': 24840,\n",
       " 'useless': 33777,\n",
       " 'earpiece': 11596,\n",
       " 'volume': 34324,\n",
       " 'low': 19585,\n",
       " 'hear': 15890,\n",
       " 'caller': 6937,\n",
       " 'speakerphone': 29722,\n",
       " 'isn': 17926,\n",
       " 'better': 5728,\n",
       " 'threw': 31927,\n",
       " 'drawer': 11241,\n",
       " 'rooted': 27431,\n",
       " 'note': 22061,\n",
       " 'cannot': 7030,\n",
       " 'huawei': 16458,\n",
       " 'crap': 9177,\n",
       " 'worse': 35289,\n",
       " 'pictures': 24011,\n",
       " 'charger': 7444,\n",
       " 'iffy': 16767,\n",
       " 'unruly': 33541,\n",
       " 'message': 20430,\n",
       " 'notification': 22096,\n",
       " 'buzz': 6797,\n",
       " 'continues': 8782,\n",
       " 'beyond': 5749,\n",
       " 'annoying': 3805,\n",
       " 'enough': 12138,\n",
       " 'throw': 31950,\n",
       " 'window': 35032,\n",
       " 'pile': 24036,\n",
       " 'spring': 29943,\n",
       " 'won': 35189,\n",
       " 'htc': 16443,\n",
       " 'excellant': 12641,\n",
       " 'performance': 23706,\n",
       " 'replaced': 26752,\n",
       " '3g': 1347,\n",
       " 'excelente': 12630,\n",
       " 'retro': 27098,\n",
       " 'thank': 31721,\n",
       " 'purchased': 25372,\n",
       " 'planning': 24183,\n",
       " 'travel': 32568,\n",
       " 'europe': 12484,\n",
       " 'previous': 24856,\n",
       " 'months': 21029,\n",
       " 'malfunction': 19861,\n",
       " 'constantly': 8705,\n",
       " 'switches': 31041,\n",
       " 'multi': 21300,\n",
       " 'mode': 20924,\n",
       " 'neither': 21701,\n",
       " 'recent': 26117,\n",
       " 'key': 18415,\n",
       " 'function': 14334,\n",
       " 'minutes': 20709,\n",
       " 'afterwards': 3240,\n",
       " 'frustrating': 14257,\n",
       " 'render': 26670,\n",
       " 'happen': 15683,\n",
       " 'sitting': 28976,\n",
       " 'desk': 10303,\n",
       " 'table': 31200,\n",
       " 'problem': 24953,\n",
       " 'set': 28417,\n",
       " 'country': 9072,\n",
       " 'korea': 18599,\n",
       " 'language': 18765,\n",
       " 'spanish': 29686,\n",
       " 'english': 12105,\n",
       " 'apps': 4066,\n",
       " 'menus': 20391,\n",
       " 'display': 10846,\n",
       " 'korean': 18600,\n",
       " 'telling': 31552,\n",
       " 'install': 17461,\n",
       " 'sim': 28861,\n",
       " 'card': 7101,\n",
       " 'enter': 12159,\n",
       " 'local': 19395,\n",
       " 'store': 30348,\n",
       " 'plan': 24175,\n",
       " 'trip': 32666,\n",
       " 'times': 32065,\n",
       " 'normally': 22032,\n",
       " 'sold': 29507,\n",
       " 'warranty': 34568,\n",
       " 'definitely': 10019,\n",
       " 'designed': 10287,\n",
       " 'conjunction': 8600,\n",
       " 'gear': 14615,\n",
       " 'r750w': 25737,\n",
       " 'smart': 29246,\n",
       " 'watch': 34609,\n",
       " 'died': 10506,\n",
       " 'month': 21025,\n",
       " 'wonder': 35193,\n",
       " 'displeased': 10853,\n",
       " 'items': 17972,\n",
       " 'decided': 9882,\n",
       " 'contacted': 8738,\n",
       " 'seller': 28272,\n",
       " 'told': 32209,\n",
       " 'contact': 8737,\n",
       " 'spain': 29677,\n",
       " 'nearest': 21623,\n",
       " 'technical': 31435,\n",
       " 'support': 30829,\n",
       " 'center': 7339,\n",
       " 'malaga': 19853,\n",
       " '67': 1963,\n",
       " 'kilometers': 18492,\n",
       " 'outside': 22963,\n",
       " 'european': 12485,\n",
       " 'union': 33371,\n",
       " 'help': 15976,\n",
       " 'wasted': 34599,\n",
       " 'ripped': 27299,\n",
       " 'game': 14513,\n",
       " 'changer': 7421,\n",
       " 'convince': 8878,\n",
       " 'worth': 35299,\n",
       " 'upgrading': 33674,\n",
       " 'description': 10259,\n",
       " 'brand': 6377,\n",
       " 'absolutely': 2699,\n",
       " 'scratches': 28035,\n",
       " 'spooky': 29900,\n",
       " 'happy': 15698,\n",
       " 'day': 9762,\n",
       " 'scheduled': 27958,\n",
       " 'blu': 6050,\n",
       " 'daughter': 9751,\n",
       " 'android': 3733,\n",
       " 'six': 28986,\n",
       " 'blue': 6054,\n",
       " 'death': 9818,\n",
       " 'occasions': 22325,\n",
       " 'removed': 26660,\n",
       " 'reinstalled': 26514,\n",
       " 'placed': 24157,\n",
       " 'desktop': 10305,\n",
       " 'move': 21161,\n",
       " 'life': 19141,\n",
       " 'looking': 19494,\n",
       " 'cheap': 7475,\n",
       " 'didn': 10501,\n",
       " 'handles': 15644,\n",
       " 'regrets': 26471,\n",
       " '5800': 1741,\n",
       " 'week': 34741,\n",
       " 'top': 32261,\n",
       " 'notch': 22058,\n",
       " 'seen': 28222,\n",
       " 'fallen': 13142,\n",
       " 'appearance': 3981,\n",
       " 'detraction': 10380,\n",
       " 'thickness': 31834,\n",
       " 'takes': 31255,\n",
       " 'acquainted': 2897,\n",
       " 'features': 13327,\n",
       " 'learn': 18916,\n",
       " 'sailing': 27709,\n",
       " 'couple': 9077,\n",
       " 'ago': 3282,\n",
       " 'hated': 15784,\n",
       " 'easier': 11614,\n",
       " 'upgrade': 33669,\n",
       " 'design': 10281,\n",
       " 'super': 30763,\n",
       " 'speed': 29788,\n",
       " 'glass': 14848,\n",
       " 'rigid': 27268,\n",
       " 'scratch': 28030,\n",
       " 'proof': 25138,\n",
       " 'initially': 17338,\n",
       " 'att': 4414,\n",
       " 'website': 34723,\n",
       " 'ooh': 22606,\n",
       " '815': 2213,\n",
       " '32': 1174,\n",
       " 'gb': 14603,\n",
       " 'pice': 23987,\n",
       " 'delivery': 10104,\n",
       " 'hot': 16361,\n",
       " 'water': 34623,\n",
       " 'dust': 11472,\n",
       " 'compared': 8260,\n",
       " 'model': 20925,\n",
       " 's5': 27627,\n",
       " 's6': 27639,\n",
       " 'based': 5360,\n",
       " 'line': 19231,\n",
       " 'generation': 14650,\n",
       " 'solid': 29519,\n",
       " 'smartphone': 29266,\n",
       " 'knock': 18568,\n",
       " 'feature': 13322,\n",
       " 'lgs': 19102,\n",
       " 'vibrant': 34127,\n",
       " 'processor': 24988,\n",
       " 'decently': 9872,\n",
       " 'highly': 16100,\n",
       " '250': 891,\n",
       " 'current': 9469,\n",
       " 'smartphones': 29268,\n",
       " 'financing': 13507,\n",
       " 'lost': 19542,\n",
       " 'avoid': 4624,\n",
       " 'paying': 23502,\n",
       " 'save': 27867,\n",
       " 'terms': 31633,\n",
       " 'processing': 24987,\n",
       " 'gorgeous': 15065,\n",
       " 'g2': 14413,\n",
       " 'lasting': 18806,\n",
       " 'prices': 24872,\n",
       " 'satisfied': 27845,\n",
       " 'miss': 20788,\n",
       " 'bloatware': 6000,\n",
       " 'value': 33922,\n",
       " 'item': 17971,\n",
       " 'described': 10246,\n",
       " 'perfectly': 23686,\n",
       " 'junk': 18296,\n",
       " 'haven': 15808,\n",
       " 'aren': 4135,\n",
       " 'tech': 31422,\n",
       " 'savvy': 27876,\n",
       " 'jellybean': 18117,\n",
       " 'stars': 30152,\n",
       " 'recomendado': 26190,\n",
       " 'exelente': 12739,\n",
       " 'received': 26112,\n",
       " 'costa': 9027,\n",
       " 'rica': 27225,\n",
       " 'preset': 24800,\n",
       " 'specifications': 29752,\n",
       " 'movistar': 21179,\n",
       " 'cr': 9129,\n",
       " 'box': 6331,\n",
       " 'seal': 28146,\n",
       " 'broken': 6506,\n",
       " 'red': 26282,\n",
       " 'inside': 17424,\n",
       " 'except': 12668,\n",
       " 'instruction': 17497,\n",
       " 'manual': 19948,\n",
       " 'well': 34784,\n",
       " 'refused': 26428,\n",
       " 'spending': 29811,\n",
       " 'weekend': 34744,\n",
       " 'online': 22581,\n",
       " 'attempting': 4432,\n",
       " 'change': 7418,\n",
       " 'settings': 28427,\n",
       " 'changed': 7420,\n",
       " 'receive': 26111,\n",
       " 'international': 17627,\n",
       " 'complications': 8365,\n",
       " 'direction': 10651,\n",
       " 'sought': 29632,\n",
       " 'color': 8081,\n",
       " 'instructions': 17499,\n",
       " 'speak': 29718,\n",
       " 'okay': 22482,\n",
       " 'service': 28403,\n",
       " 'green': 15278,\n",
       " 'squared': 29982,\n",
       " 'hello': 15972,\n",
       " 'recieved': 26153,\n",
       " 'powerful': 24585,\n",
       " 'amazing': 3596,\n",
       " 'you': 35670,\n",
       " 'minimally': 20669,\n",
       " 'advanced': 3127,\n",
       " 'basic': 5368,\n",
       " 'palm': 23258,\n",
       " 'pixi': 24134,\n",
       " 'choice': 7599,\n",
       " 'talk': 31267,\n",
       " 'text': 31677,\n",
       " 'pre': 24650,\n",
       " 'paid': 23223,\n",
       " 'costs': 9035,\n",
       " 'hundred': 16511,\n",
       " 'dollars': 11054,\n",
       " 'data': 9732,\n",
       " 'wifi': 34975,\n",
       " 'available': 4585,\n",
       " 'os': 22824,\n",
       " 'slick': 29131,\n",
       " 'smoothly': 29331,\n",
       " 'form': 13978,\n",
       " 'factor': 13094,\n",
       " 'fits': 13610,\n",
       " 'comfortably': 8140,\n",
       " 'pocket': 24328,\n",
       " 'surprisingly': 30908,\n",
       " 'ton': 32234,\n",
       " 'lasts': 18809,\n",
       " 'prepaid': 24756,\n",
       " 'disable': 10670,\n",
       " 'rates': 25880,\n",
       " 'tend': 31586,\n",
       " 'insanely': 17408,\n",
       " 'actually': 2961,\n",
       " 'inform': 17287,\n",
       " '25': 890,\n",
       " '90': 2341,\n",
       " '28': 971,\n",
       " '30': 1100,\n",
       " 'lose': 19531,\n",
       " 'etc': 12460,\n",
       " 'texting': 31683,\n",
       " 'calling': 6942,\n",
       " 'sneaky': 29393,\n",
       " 'disappointing': 10689,\n",
       " 'devices': 10411,\n",
       " 'operating': 22671,\n",
       " 'system': 31134,\n",
       " 'quick': 25602,\n",
       " 'access': 2779,\n",
       " 'applications': 4018,\n",
       " 'daily': 9645,\n",
       " 'percent': 23653,\n",
       " 'preferred': 24713,\n",
       " 'replacement': 26754,\n",
       " 's2': 27605,\n",
       " 'improved': 17004,\n",
       " 'verizon': 34057,\n",
       " 'one': 22545,\n",
       " 'completely': 8347,\n",
       " 'freezes': 14157,\n",
       " 'issues': 17951,\n",
       " 'g3': 14416,\n",
       " 'plus': 24305,\n",
       " 'spams': 29682,\n",
       " 'bunch': 6697,\n",
       " 'drain': 11220,\n",
       " 'dry': 11347,\n",
       " 'spend': 29810,\n",
       " 'hours': 16389,\n",
       " 'disabling': 10673,\n",
       " 'google': 15024,\n",
       " 'suffer': 30681,\n",
       " 'triple': 32668,\n",
       " 'download': 11166,\n",
       " 'gingerbread': 14798,\n",
       " 'keyboard': 18421,\n",
       " 'immense': 16901,\n",
       " 'storage': 30345,\n",
       " 'capacity': 7060,\n",
       " 'overseas': 23088,\n",
       " 'else': 11887,\n",
       " 'app': 3962,\n",
       " 'killer': 18484,\n",
       " 'kill': 18482,\n",
       " 'browser': 6530,\n",
       " 'manage': 19888,\n",
       " 'force': 13921,\n",
       " 'close': 7893,\n",
       " 'stop': 30334,\n",
       " 'killing': 18486,\n",
       " '600': 1820,\n",
       " 'popular': 24445,\n",
       " 'droid': 11292,\n",
       " 'hindsight': 16136,\n",
       " 'sharp': 28535,\n",
       " 'fx': 14406,\n",
       " 'flo': 13773,\n",
       " 'tv': 32862,\n",
       " '150': 392,\n",
       " 'contract': 8797,\n",
       " 'free': 14129,\n",
       " '12': 230,\n",
       " 'intelligent': 17546,\n",
       " '1200': 232,\n",
       " 'original': 22802,\n",
       " 'motorola': 21136,\n",
       " 'atrix': 4407,\n",
       " '48': 1520,\n",
       " '14': 340,\n",
       " 'september': 28360,\n",
       " '2012': 698,\n",
       " 'otter': 22866,\n",
       " 'dropped': 11326,\n",
       " 'shattered': 28545,\n",
       " '125': 251,\n",
       " 'im': 16854,\n",
       " 'wait': 34461,\n",
       " 'cheaper': 7478,\n",
       " 'replacing': 26759,\n",
       " 'piece': 24019,\n",
       " 'gotten': 15089,\n",
       " 'loose': 19519,\n",
       " 'charge': 7441,\n",
       " 'overnight': 23058,\n",
       " 'holding': 16222,\n",
       " 'sits': 28974,\n",
       " 'blinking': 5982,\n",
       " 'corrupting': 9009,\n",
       " 'sd': 28113,\n",
       " 'vm': 34280,\n",
       " 'optimus': 22738,\n",
       " 'seeing': 28213,\n",
       " 'sprint': 29952,\n",
       " 'network': 21759,\n",
       " 'impressed': 16990,\n",
       " 'frills': 14206,\n",
       " 'clamshell': 7758,\n",
       " 'lg': 19053,\n",
       " 'vx3850': 34381,\n",
       " 'wireless': 35079,\n",
       " 'difference': 10523,\n",
       " 'functionality': 14339,\n",
       " 'ratio': 25885,\n",
       " 'night': 21874,\n",
       " 'unfortunately': 33297,\n",
       " 'reliability': 26573,\n",
       " 'broke': 6504,\n",
       " 'hinge': 16140,\n",
       " 'virgin': 34221,\n",
       " 'loses': 19535,\n",
       " 'connection': 8616,\n",
       " 'phrase': 23968,\n",
       " 'signal': 28824,\n",
       " 'll': 19345,\n",
       " 'references': 26362,\n",
       " 'variety': 33952,\n",
       " 'suggested': 30697,\n",
       " 'workarounds': 35245,\n",
       " 'posted': 24534,\n",
       " 'various': 33954,\n",
       " 'boards': 6112,\n",
       " 'toggling': 32198,\n",
       " 'airplane': 3350,\n",
       " 'rebooting': 26070,\n",
       " 'test': 31655,\n",
       " 'menu': 20387,\n",
       " 'none': 21994,\n",
       " 'helped': 15978,\n",
       " 'emailed': 11896,\n",
       " 'respond': 26977,\n",
       " 'acknowledged': 2880,\n",
       " 'check': 7495,\n",
       " 'status': 30189,\n",
       " 'usage': 33749,\n",
       " 'hovers': 16405,\n",
       " '50': 1616,\n",
       " 'mind': 20640,\n",
       " 'functional': 14337,\n",
       " 'leaning': 18908,\n",
       " 'towards': 32368,\n",
       " 'keeping': 18393,\n",
       " 'porting': 24479,\n",
       " 'attractive': 4455,\n",
       " 'typically': 32950,\n",
       " 'half': 15582,\n",
       " 'saving': 27872,\n",
       " 'installed': 17466,\n",
       " 'gps': 15113,\n",
       " 'maps': 19975,\n",
       " 'navigator': 21596,\n",
       " 'there': 31789,\n",
       " 'enables': 12009,\n",
       " 'toggle': 32195,\n",
       " 'hotspot': 16374,\n",
       " 'allowing': 3482,\n",
       " 'tether': 31667,\n",
       " 'internet': 17631,\n",
       " 'sent': 28334,\n",
       " 'delivered': 10099,\n",
       " 'party': 23406,\n",
       " 'late': 18814,\n",
       " 'excuse': 12718,\n",
       " 'sms': 29337,\n",
       " 'messages': 20432,\n",
       " 'voice': 34298,\n",
       " 'understand': 33217,\n",
       " 'reconciled': 26225,\n",
       " 'idea': 16712,\n",
       " 'meant': 20216,\n",
       " 'communications': 8212,\n",
       " 'options': 22745,\n",
       " 'option': 22742,\n",
       " 'portable': 24473,\n",
       " 'enabled': 12007,\n",
       " 'device': 10408,\n",
       " 'provided': 25228,\n",
       " 'standard': 30114,\n",
       " 'retail': 27052,\n",
       " 'archos': 4128,\n",
       " '70it': 2048,\n",
       " 'useable': 33764,\n",
       " 'tablet': 31204,\n",
       " 'cost': 9026,\n",
       " '300': 1101,\n",
       " 'require': 26827,\n",
       " 'crappy': 9188,\n",
       " 'browsing': 6533,\n",
       " 'mapping': 19972,\n",
       " 'stick': 30265,\n",
       " 'return': 27110,\n",
       " 'radio': 25765,\n",
       " 'shack': 28485,\n",
       " 'route': 27474,\n",
       " 'probably': 24942,\n",
       " 'opt': 22716,\n",
       " 'equivalent': 12278,\n",
       " 'refurbished': 26420,\n",
       " '8x': 2337,\n",
       " 'wp8': 35335,\n",
       " 'ware': 34534,\n",
       " 'house': 16390,\n",
       " 'deals': 9810,\n",
       " 'dac': 9634,\n",
       " 'enterprises': 12164,\n",
       " 'april': 4081,\n",
       " '2014': 702,\n",
       " 'operated': 22669,\n",
       " '11': 176,\n",
       " 'restarting': 27003,\n",
       " 'checking': 7500,\n",
       " 'found': 14048,\n",
       " 'common': 8199,\n",
       " 'associated': 4327,\n",
       " 'shimming': 28598,\n",
       " 'scotch': 28002,\n",
       " 'tape': 31312,\n",
       " 'fix': 13615,\n",
       " 'desired': 10299,\n",
       " 'wp': 35332,\n",
       " 'business': 6747,\n",
       " 'nexus': 21821,\n",
       " '4s': 1597,\n",
       " 'lacking': 18700,\n",
       " 'nfc': 21828,\n",
       " 'flash': 13668,\n",
       " 'compass': 8274,\n",
       " 'snappy': 29374,\n",
       " 'read': 25965,\n",
       " 'reviews': 27162,\n",
       " 'comparable': 8248,\n",
       " 'comment': 8172,\n",
       " 'recently': 26118,\n",
       " 'reluctantly': 26606,\n",
       " 'curve': 9488,\n",
       " 'husband': 16538,\n",
       " 'razr': 25925,\n",
       " 'cranberry': 9171,\n",
       " 'colored': 8084,\n",
       " 'handed': 15624,\n",
       " 'loves': 19579,\n",
       " 'slim': 29155,\n",
       " 'profile': 25036,\n",
       " 'straightforward': 30377,\n",
       " 'metal': 20447,\n",
       " 'surprised': 30905,\n",
       " 'plastic': 24195,\n",
       " 'looked': 19489,\n",
       " 'able': 2668,\n",
       " 'activate': 2926,\n",
       " 'quickly': 25610,\n",
       " 'glad': 14836,\n",
       " 'selling': 28274,\n",
       " 'reasonable': 26046,\n",
       " 'resolution': 26938,\n",
       " 'lighting': 19182,\n",
       " 'cycled': 9556,\n",
       " '07': 64,\n",
       " '05': 54,\n",
       " 'mentioned': 20380,\n",
       " 'asus': 4366,\n",
       " 'fixed': 13618,\n",
       " 'trickery': 32639,\n",
       " 'user': 33779,\n",
       " 'send': 28295,\n",
       " 'emoji': 11952,\n",
       " 'solution': 29532,\n",
       " 'reopen': 26699,\n",
       " 'vine': 34204,\n",
       " 'video': 34147,\n",
       " 'play': 24217,\n",
       " 'crash': 9193,\n",
       " 'grrr': 15376,\n",
       " 'blown': 6044,\n",
       " 'laptop': 18781,\n",
       " 'incredibly': 17148,\n",
       " 'easy': 11624,\n",
       " 'interface': 17595,\n",
       " 'versatility': 34071,\n",
       " 'especially': 12368,\n",
       " 'loving': 19583,\n",
       " 'rounded': 27468,\n",
       " 'whoever': 34917,\n",
       " 'brilliant': 6470,\n",
       " 'flat': 13688,\n",
       " 'stupid': 30530,\n",
       " 'cradling': 9151,\n",
       " 'edges': 11702,\n",
       " 'home': 16245,\n",
       " 'weeks': 34748,\n",
       " 'moderate': 20935,\n",
       " 'amount': 3657,\n",
       " 'heavy': 15929,\n",
       " 'letting': 19032,\n",
       " 'lead': 18890,\n",
       " 'odd': 22362,\n",
       " 'superb': 30766,\n",
       " 'unlike': 33405,\n",
       " 'reported': 26779,\n",
       " 'dice': 10482,\n",
       " 'power': 24576,\n",
       " 'lift': 19164,\n",
       " 'premium': 24741,\n",
       " 'tempered': 31571,\n",
       " 'mentioning': 20381,\n",
       " 'hidden': 16074,\n",
       " 'setting': 28426,\n",
       " 'mms': 20866,\n",
       " 'picture': 24009,\n",
       " 'content': 8757,\n",
       " 'browsed': 6529,\n",
       " 'carrier': 7160,\n",
       " 'doubtful': 11142,\n",
       " 'sometimes': 29562,\n",
       " 'connecting': 8615,\n",
       " 'routers': 27477,\n",
       " 'router': 27476,\n",
       " 'fairly': 13125,\n",
       " 'connect': 8608,\n",
       " 'third': 31864,\n",
       " 'vast': 33960,\n",
       " 'allow': 3479,\n",
       " 'users': 33784,\n",
       " 'layout': 18871,\n",
       " 'multilingual': 21309,\n",
       " 'east': 11621,\n",
       " 'asian': 4264,\n",
       " 'languages': 18766,\n",
       " 'japanese': 18072,\n",
       " 'limited': 19220,\n",
       " 'traditional': 32442,\n",
       " 'keypad': 18438,\n",
       " 'believe': 5625,\n",
       " 'bypass': 6812,\n",
       " '3rd': 1381,\n",
       " 'keypads': 18439,\n",
       " 'built': 6646,\n",
       " 'correct': 8984,\n",
       " 'lol': 19457,\n",
       " 'spent': 29814,\n",
       " 'vastly': 33961,\n",
       " 'usability': 33745,\n",
       " 'comparison': 8267,\n",
       " 'nephew': 21711,\n",
       " 'africa': 3227,\n",
       " 'trophy': 32704,\n",
       " 'windows': 35036,\n",
       " 'connected': 8612,\n",
       " 'exchange': 12684,\n",
       " '2010': 696,\n",
       " 'dual': 11370,\n",
       " 'capabilities': 7046,\n",
       " 'leisure': 18976,\n",
       " 'sound': 29636,\n",
       " 'clean': 7803,\n",
       " 'native': 21571,\n",
       " 'lync': 19700,\n",
       " 'sharepoint': 28528,\n",
       " 'huge': 16475,\n",
       " 'advantage': 3132,\n",
       " 'clunky': 7936,\n",
       " 'crisp': 9283,\n",
       " 'clear': 7818,\n",
       " 'ie9': 16756,\n",
       " 'lightning': 19185,\n",
       " 'hub': 16461,\n",
       " 'add': 3007,\n",
       " 'contacts': 8740,\n",
       " 'scout': 28010,\n",
       " 'restaurants': 27007,\n",
       " 'shops': 28662,\n",
       " 'city': 7732,\n",
       " 'wife': 34972,\n",
       " 'purpose': 25410,\n",
       " 'buyer': 6788,\n",
       " 'earlier': 11586,\n",
       " 'totally': 32310,\n",
       " 'packaged': 23189,\n",
       " 'packing': 23197,\n",
       " 'registered': 26455,\n",
       " 'discount': 10747,\n",
       " 'shipping': 28620,\n",
       " 'pleasant': 24245,\n",
       " 'experience': 12861,\n",
       " 'batter': 5409,\n",
       " 'regular': 26481,\n",
       " 'reliable': 26575,\n",
       " 'protective': 25196,\n",
       " 'tough': 32349,\n",
       " 'write': 35378,\n",
       " 'performs': 23715,\n",
       " 'clarity': 7773,\n",
       " 'picks': 23996,\n",
       " 'navigate': 21589,\n",
       " 'nearly': 21625,\n",
       " 'programmed': 25063,\n",
       " 'm1': 19706,\n",
       " 'm2': 19708,\n",
       " 'seniors': 28303,\n",
       " 'hangup': 15675,\n",
       " 'title': 32121,\n",
       " 'contains': 8746,\n",
       " 'words': 35235,\n",
       " 'senior': 28302,\n",
       " 'kids': 18475,\n",
       " 'difficulty': 10542,\n",
       " 'mastering': 20076,\n",
       " 'regards': 26440,\n",
       " 'jethro': 18139,\n",
       " 'fatal': 13249,\n",
       " 'flaw': 13703,\n",
       " 'edge': 11697,\n",
       " 'rocker': 27379,\n",
       " 'possibly': 24528,\n",
       " 'locks': 19423,\n",
       " 'unlocks': 33425,\n",
       " 'depressed': 10210,\n",
       " 'hoping': 16319,\n",
       " 'instead': 17480,\n",
       " 'added': 3009,\n",
       " 'frustration': 14259,\n",
       " 'attempted': 4431,\n",
       " 'burden': 6707,\n",
       " 'family': 13167,\n",
       " 'trips': 32683,\n",
       " 'discovering': 10760,\n",
       " 'due': 11393,\n",
       " 'locked': 19414,\n",
       " 'disables': 10672,\n",
       " 'locking': 19419,\n",
       " 'knife': 18561,\n",
       " 'pry': 25255,\n",
       " 'lock': 19411,\n",
       " 'flashlight': 13683,\n",
       " 'nonetheless': 21995,\n",
       " 'deliberately': 10080,\n",
       " ...}"
      ]
     },
     "execution_count": 15,
     "metadata": {
      "tags": []
     },
     "output_type": "execute_result"
    }
   ],
   "source": [
    "# printing the vocabulary\n",
    "vect.vocabulary_"
   ]
  },
  {
   "cell_type": "code",
   "execution_count": null,
   "metadata": {
    "id": "9y-AxfAY7by_"
   },
   "outputs": [],
   "source": [
    "# transforming the train and test datasets\n",
    "X_train_transformed = vect.transform(X_train)\n",
    "X_test_transformed = vect.transform(X_test)"
   ]
  },
  {
   "cell_type": "code",
   "execution_count": null,
   "metadata": {
    "id": "oUHMyRBdiBpj"
   },
   "outputs": [],
   "source": []
  },
  {
   "cell_type": "code",
   "execution_count": null,
   "metadata": {
    "id": "y89seM_DiBef"
   },
   "outputs": [],
   "source": []
  },
  {
   "cell_type": "code",
   "execution_count": null,
   "metadata": {
    "id": "te94dFT1iBOk"
   },
   "outputs": [],
   "source": []
  },
  {
   "cell_type": "code",
   "execution_count": null,
   "metadata": {
    "id": "INb6_YNSiBHn"
   },
   "outputs": [],
   "source": []
  },
  {
   "cell_type": "code",
   "execution_count": null,
   "metadata": {
    "id": "TH6xzuICiA8u"
   },
   "outputs": [],
   "source": []
  },
  {
   "cell_type": "code",
   "execution_count": null,
   "metadata": {
    "id": "I4DkFlYviAza"
   },
   "outputs": [],
   "source": []
  },
  {
   "cell_type": "code",
   "execution_count": null,
   "metadata": {
    "id": "4nh1qi6CiAq0"
   },
   "outputs": [],
   "source": []
  },
  {
   "cell_type": "markdown",
   "metadata": {
    "id": "QWMVtXE4L6lQ"
   },
   "source": [
    "**A Multinomial Naive Bayes** \n",
    "\n",
    "Multinomial Naive Bayes is useful to model feature vectors where each value represents the number of occurences of a particular term in a document. Whereas, in case of Bernoulli Naive Bayes, the random variable X can assume only binary values.\n",
    "\n",
    "Hence, for our case, where we need to account for a term occuring multiple times in a particular review, a Multinomial Naive Bayes model would make more sense.\n"
   ]
  },
  {
   "cell_type": "code",
   "execution_count": null,
   "metadata": {
    "id": "mNY8ukdd8Ll8"
   },
   "outputs": [],
   "source": [
    "# Training the NB model and making predictions\n",
    "from sklearn.naive_bayes import MultinomialNB\n",
    "mnb = MultinomialNB()\n",
    "\n",
    "# fit\n",
    "mnb.fit(X_train_transformed,y_train)\n",
    "\n",
    "#Applying the model on train set too\n",
    "y_pred_train = mnb.predict(X_train_transformed) # returns classes 0 and 1\n",
    "\n",
    "y_pred_proba_tr = mnb.predict_proba(X_train_transformed) # returns the probability of a review being positive\n",
    "\n",
    "# predict sentiment\n",
    "y_pred = mnb.predict(X_test_transformed)\n",
    "\n",
    "# predict probabilities\n",
    "y_pred_proba = mnb.predict_proba(X_test_transformed)"
   ]
  },
  {
   "cell_type": "code",
   "execution_count": null,
   "metadata": {
    "colab": {
     "base_uri": "https://localhost:8080/"
    },
    "id": "8pRVbuXi8LmW",
    "outputId": "de470b9b-f257-4734-f847-eee918b63027"
   },
   "outputs": [
    {
     "data": {
      "text/plain": [
       "MultinomialNB(alpha=1.0, class_prior=None, fit_prior=True)"
      ]
     },
     "execution_count": 19,
     "metadata": {
      "tags": []
     },
     "output_type": "execute_result"
    }
   ],
   "source": [
    "# note that alpha=1 is used by default for smoothing\n",
    "mnb"
   ]
  },
  {
   "cell_type": "code",
   "execution_count": null,
   "metadata": {
    "id": "bk4Gm1tmkqx3"
   },
   "outputs": [],
   "source": []
  },
  {
   "cell_type": "code",
   "execution_count": null,
   "metadata": {
    "id": "JeQRO2OOkqs2"
   },
   "outputs": [],
   "source": []
  },
  {
   "cell_type": "code",
   "execution_count": null,
   "metadata": {
    "id": "vrnANkWukqit"
   },
   "outputs": [],
   "source": []
  },
  {
   "cell_type": "code",
   "execution_count": null,
   "metadata": {
    "id": "aG8yqyA8kqa3"
   },
   "outputs": [],
   "source": []
  },
  {
   "cell_type": "code",
   "execution_count": null,
   "metadata": {
    "id": "m5VC9mL3kqRX"
   },
   "outputs": [],
   "source": []
  },
  {
   "cell_type": "code",
   "execution_count": null,
   "metadata": {
    "id": "7lgTynhakqDw"
   },
   "outputs": [],
   "source": []
  },
  {
   "cell_type": "markdown",
   "metadata": {
    "id": "1A8Xi2U-8Lmd"
   },
   "source": [
    "### Model evaluation on the test data set"
   ]
  },
  {
   "cell_type": "code",
   "execution_count": null,
   "metadata": {
    "id": "Zr53td2C8Lme"
   },
   "outputs": [],
   "source": [
    "from sklearn import metrics\n",
    "from sklearn.metrics import classification_report, confusion_matrix"
   ]
  },
  {
   "cell_type": "code",
   "execution_count": null,
   "metadata": {
    "colab": {
     "base_uri": "https://localhost:8080/"
    },
    "id": "JPjYeOYp8Lmf",
    "outputId": "614ed7af-c86e-4065-a522-b9c411ec9892"
   },
   "outputs": [
    {
     "name": "stdout",
     "output_type": "stream",
     "text": [
      "Accuracy for train set is:  0.8838545814589208\n",
      "Accuracy for test set is:  0.8653709562859172\n"
     ]
    }
   ],
   "source": [
    "# printing the overall accuracy \n",
    "from sklearn import metrics\n",
    "print(\"Accuracy for train set is: \", metrics.accuracy_score(y_train, y_pred_train))\n",
    "print(\"Accuracy for test set is: \", metrics.accuracy_score(y_test, y_pred))"
   ]
  },
  {
   "cell_type": "code",
   "execution_count": null,
   "metadata": {
    "colab": {
     "base_uri": "https://localhost:8080/",
     "height": 283
    },
    "id": "FcSYNTUd8LnM",
    "outputId": "98de18a9-1754-4cec-88f7-1a6eb12bcd0c"
   },
   "outputs": [
    {
     "name": "stdout",
     "output_type": "stream",
     "text": [
      "Confusion matrix for train and test set\n"
     ]
    },
    {
     "data": {
      "image/png": "[encoded data removed]",
      "text/plain": [
       "<Figure size 864x288 with 4 Axes>"
      ]
     },
     "metadata": {
      "needs_background": "light",
      "tags": []
     },
     "output_type": "display_data"
    }
   ],
   "source": [
    "#Confusion matrix for the train data\n",
    "import seaborn as sns\n",
    "import matplotlib.pyplot as plt\n",
    "\n",
    "print(\"Confusion matrix for train and test set\")\n",
    "\n",
    "plt.figure(figsize=(12,4))\n",
    "\n",
    "plt.subplot(1,2,1)\n",
    "# confusion matrix for train set\n",
    "cm_train = metrics.confusion_matrix(y_train, y_pred_train)\n",
    "sns.heatmap(cm_train/np.sum(cm_train), annot=True , fmt = ' .2%')\n",
    "# help(metrics.confusion_matrix)\n",
    "\n",
    "plt.subplot(1,2,2)\n",
    "# confusion matrix for the test data\n",
    "cm_test = metrics.confusion_matrix(y_test, y_pred)\n",
    "sns.heatmap(cm_test/np.sum(cm_test), annot=True , fmt = ' .2%')\n",
    "\n",
    "plt.show()"
   ]
  },
  {
   "cell_type": "markdown",
   "metadata": {
    "id": "7TsAHAkUcnrp"
   },
   "source": [
    "Confusion Matrix is a tool to determine the performance of classifier. It contains information about actual and predicted classifications. Figure below gives a glimpse of a confusion matrix"
   ]
  },
  {
   "cell_type": "code",
   "execution_count": null,
   "metadata": {
    "id": "clmFtkjt8Lno"
   },
   "outputs": [],
   "source": [
    "# storing the values in variables  \n",
    "\n",
    "#For train set\n",
    "TN_tr = cm_train[0, 0] \n",
    "FP_tr = cm_train[0, 1]\n",
    "FN_tr = cm_train[1, 0]\n",
    "TP_tr = cm_train[1, 1]\n",
    "\n",
    "#for test set\n",
    "TN = cm_test[0, 0]\n",
    "FP = cm_test[0, 1]\n",
    "FN = cm_test[1, 0]\n",
    "TP = cm_test[1, 1]\n"
   ]
  },
  {
   "cell_type": "markdown",
   "metadata": {
    "id": "ZPQFkCNHe_Zw"
   },
   "source": [
    "**Sensitivity (True Positive Rate)** is a measure of the proportion of actual positive cases that got predicted as positive.\n",
    "\n",
    "**Specificity (True Negative Rate)** is defined as the proportion of actual negatives, which got predicted as the negative (or true negative).\n",
    "\n",
    "Sensitivity and Specificity measures are used to plot the **ROC curve**. And, Area under ROC curve (AUC) is used to determine the model performance. \n"
   ]
  },
  {
   "cell_type": "markdown",
   "metadata": {
    "id": "0UQTWJMNgYSz"
   },
   "source": [
    "`True Positive Rate = True Positives / (True Positives + False Negatives)`\n",
    "\n"
   ]
  },
  {
   "cell_type": "markdown",
   "metadata": {
    "id": "zW8S68ecgYmG"
   },
   "source": [
    "\n",
    "`False Positive Rate = False Positives / (False Positives + True Negatives)`"
   ]
  },
  {
   "cell_type": "markdown",
   "metadata": {
    "id": "R5XwLfT-HjKD"
   },
   "source": [
    "For this particular problem, the metrics that have been chosen are sensitivity and specificity. The reason being, you do not want to make the same mistake as your competitor that had resulted in a negative sentiment of the customer (specificity), and at the same time your product should also cover the aspects that have resulted in positive sentiment for the competitor products (sensitivity)"
   ]
  },
  {
   "cell_type": "code",
   "execution_count": null,
   "metadata": {
    "id": "7b8XUhvo8Loq"
   },
   "outputs": [],
   "source": [
    "# creating an ROC curve\n",
    "from sklearn.metrics import confusion_matrix as sk_confusion_matrix\n",
    "from sklearn.metrics import roc_curve, auc\n",
    "import matplotlib.pyplot as plt\n",
    "\n",
    "#for train set\n",
    "false_positive_rate_tr, true_positive_rate_tr, thresholds_tr = roc_curve(y_train, y_pred_proba_tr[:,1])\n",
    "roc_auc_tr = auc(false_positive_rate_tr, true_positive_rate_tr)\n",
    "\n",
    "#for test set\n",
    "false_positive_rate, true_positive_rate, thresholds = roc_curve(y_test, y_pred_proba[:,1])\n",
    "roc_auc = auc(false_positive_rate, true_positive_rate)"
   ]
  },
  {
   "cell_type": "code",
   "execution_count": null,
   "metadata": {
    "colab": {
     "base_uri": "https://localhost:8080/"
    },
    "id": "P-Yyj0HU8Lo3",
    "outputId": "d3f628bd-1d41-48ac-c733-34c4b631483c"
   },
   "outputs": [
    {
     "name": "stdout",
     "output_type": "stream",
     "text": [
      "for train set:  0.9256567688408462\n",
      "for test set:  0.8975773852568772\n"
     ]
    }
   ],
   "source": [
    "# area under the curve \n",
    "print (\"for train set: \",roc_auc_tr)\n",
    "print (\"for test set: \",roc_auc)\n"
   ]
  },
  {
   "cell_type": "code",
   "execution_count": null,
   "metadata": {
    "colab": {
     "base_uri": "https://localhost:8080/",
     "height": 312
    },
    "id": "mUZCqjaNUOv-",
    "outputId": "21fe26e2-15ad-4abd-9037-33a8616c2d35"
   },
   "outputs": [
    {
     "data": {
      "text/plain": [
       "[<matplotlib.lines.Line2D at 0x7fd84f5248d0>]"
      ]
     },
     "execution_count": 27,
     "metadata": {
      "tags": []
     },
     "output_type": "execute_result"
    },
    {
     "data": {
      "image/png": "[encoded data removed]",
      "text/plain": [
       "<Figure size 432x288 with 1 Axes>"
      ]
     },
     "metadata": {
      "needs_background": "light",
      "tags": []
     },
     "output_type": "display_data"
    }
   ],
   "source": [
    "# plotting the ROC curve for train set\n",
    "%matplotlib inline  \n",
    "plt.ylabel('True Positive Rate')\n",
    "plt.xlabel('False Positive Rate')\n",
    "plt.title('ROC for train set')\n",
    "plt.plot(false_positive_rate_tr, true_positive_rate_tr)"
   ]
  },
  {
   "cell_type": "code",
   "execution_count": null,
   "metadata": {
    "colab": {
     "base_uri": "https://localhost:8080/",
     "height": 312
    },
    "id": "g5dBQV6y8LpW",
    "outputId": "e8cab6b6-a3a0-447a-e0f4-4c4302d67d1f"
   },
   "outputs": [
    {
     "data": {
      "text/plain": [
       "[<matplotlib.lines.Line2D at 0x7fd84f524d68>]"
      ]
     },
     "execution_count": 28,
     "metadata": {
      "tags": []
     },
     "output_type": "execute_result"
    },
    {
     "data": {
      "image/png": "[encoded data removed]",
      "text/plain": [
       "<Figure size 432x288 with 1 Axes>"
      ]
     },
     "metadata": {
      "needs_background": "light",
      "tags": []
     },
     "output_type": "display_data"
    }
   ],
   "source": [
    "# plotting the ROC curve for test set\n",
    "%matplotlib inline  \n",
    "plt.ylabel('True Positive Rate')\n",
    "plt.xlabel('False Positive Rate')\n",
    "plt.title('ROC for test set')\n",
    "plt.plot(false_positive_rate, true_positive_rate)"
   ]
  },
  {
   "cell_type": "code",
   "execution_count": null,
   "metadata": {
    "colab": {
     "base_uri": "https://localhost:8080/"
    },
    "id": "s_X8tfqJ8Lns",
    "outputId": "140acd42-2e19-4dea-fb40-9891de6ba984"
   },
   "outputs": [
    {
     "name": "stdout",
     "output_type": "stream",
     "text": [
      "sensitivity for train set:  0.9530544775046715\n",
      "sensitivity for test set:  0.9509710832973672\n"
     ]
    }
   ],
   "source": [
    "#Calculating the Sensitivity for train and test set\n",
    "sensitivity_tr = TP_tr / float(FN_tr + TP_tr)\n",
    "print(\"sensitivity for train set: \",sensitivity_tr)\n",
    "sensitivity = TP / float(FN + TP)\n",
    "print(\"sensitivity for test set: \",sensitivity)"
   ]
  },
  {
   "cell_type": "code",
   "execution_count": null,
   "metadata": {
    "colab": {
     "base_uri": "https://localhost:8080/"
    },
    "id": "05ewuTsQXQH1",
    "outputId": "0c509bf1-b334-4a88-e794-62a70d0de910"
   },
   "outputs": [
    {
     "name": "stdout",
     "output_type": "stream",
     "text": [
      "specificity for train set:  0.6776597567243448\n",
      "specificity for test set:  0.6112250128139416\n"
     ]
    }
   ],
   "source": [
    "#specificity for test and train set. \n",
    "specificity_tr = TN_tr / float(TN_tr + FP_tr)\n",
    "print(\"specificity for train set: \",specificity_tr)\n",
    "specificity = TN / float(TN + FP)\n",
    "print(\"specificity for test set: \",specificity)"
   ]
  },
  {
   "cell_type": "markdown",
   "metadata": {
    "id": "ktYiRehcXZF2"
   },
   "source": [
    "\n",
    "Since the distribution of the dataset is imbalanced with more positives, many reviews which were negative were incorrectly classified as positives by the NB model and hence the low specificity. From a business point of view, this is not a very good model as you will miss out on the negatives of your competitors. Knowing the weaknesses of your competitors help you design better features for the product and devise your marketing strategies accordingly."
   ]
  },
  {
   "cell_type": "code",
   "execution_count": null,
   "metadata": {
    "colab": {
     "base_uri": "https://localhost:8080/"
    },
    "id": "S1KEyvWP8Lpi",
    "outputId": "c6d42627-f1bf-4f2a-be18-c9c598764f2f"
   },
   "outputs": [
    {
     "name": "stdout",
     "output_type": "stream",
     "text": [
      "report for train set\n",
      "              precision    recall  f1-score   support\n",
      "\n",
      "           0       0.83      0.68      0.75     11674\n",
      "           1       0.90      0.95      0.92     34785\n",
      "\n",
      "    accuracy                           0.88     46459\n",
      "   macro avg       0.86      0.82      0.84     46459\n",
      "weighted avg       0.88      0.88      0.88     46459\n",
      "\n",
      "report for test set\n",
      "              precision    recall  f1-score   support\n",
      "\n",
      "           0       0.81      0.61      0.70      3902\n",
      "           1       0.88      0.95      0.91     11585\n",
      "\n",
      "    accuracy                           0.87     15487\n",
      "   macro avg       0.84      0.78      0.80     15487\n",
      "weighted avg       0.86      0.87      0.86     15487\n",
      "\n"
     ]
    }
   ],
   "source": [
    "# Printing the classification report\n",
    "print(\"report for train set\")\n",
    "print(classification_report(y_train, y_pred_train))\n",
    "print(\"report for test set\")\n",
    "print(classification_report(y_test, y_pred))"
   ]
  },
  {
   "cell_type": "markdown",
   "metadata": {
    "id": "gkUxVrnKiFGR"
   },
   "source": [
    "Macro average is just the average of performance metrics of both the classes where as the weighted average assigns weights to the metrics of the classes according to their distribution in the original dataset. Macro and weighted averages are more useful in a multi-class calssification problems because in case of a binary classification, we already know what our positive and negative classes are, to evaluate the model performance."
   ]
  },
  {
   "cell_type": "markdown",
   "metadata": {
    "id": "1fWot0yD8q9A"
   },
   "source": [
    "# Model 2: With Oversampling \n",
    "A skewed data is the one where there are more training examples for one class than another. This was evident from the specificity which was calculated in the model above. This can cause the decision boundary weights to be biased. This causes\n",
    "the classifier to unwittingly prefer one class over the\n",
    "other.\n",
    "\n",
    "We have shown the reason for the bias in the previous model and propose to alleviate the problem by using a method called **Random oversampling**. Random oversampling involves randomly selecting samples from the minority class (in our case 0s), with replacement, and adding them to the training dataset such that there is an equal distribution of the classes. \n",
    "\n"
   ]
  },
  {
   "cell_type": "code",
   "execution_count": null,
   "metadata": {
    "id": "naSBLPUM7Yq-"
   },
   "outputs": [],
   "source": [
    "# splitting the data into test and train\n",
    "from sklearn.model_selection  import train_test_split\n",
    "\n",
    "X_train, X_test, y_train, y_test = train_test_split(X, y, random_state=1)"
   ]
  },
  {
   "cell_type": "code",
   "execution_count": null,
   "metadata": {
    "colab": {
     "base_uri": "https://localhost:8080/"
    },
    "id": "WnqrdCFPkS5X",
    "outputId": "a6bf854e-7e0b-4b48-c239-70fdac68d0a5"
   },
   "outputs": [
    {
     "data": {
      "text/plain": [
       "1    34785\n",
       "0    11674\n",
       "dtype: int64"
      ]
     },
     "execution_count": 33,
     "metadata": {
      "tags": []
     },
     "output_type": "execute_result"
    }
   ],
   "source": [
    "pd.Series(y_train).value_counts()"
   ]
  },
  {
   "cell_type": "markdown",
   "metadata": {
    "id": "HfNSeT57JzHQ"
   },
   "source": [
    "Why oversampling is done only on training set? <br>If both the train and test data are oversampled, we may end up having same points in both the sets. Hence the model performance obtained cannot be reliable as the test set is not independent of the train set."
   ]
  },
  {
   "cell_type": "code",
   "execution_count": null,
   "metadata": {
    "id": "J9bPstfLCiRt"
   },
   "outputs": [],
   "source": [
    "#from imblearn import over_sampling\n",
    "from imblearn import over_sampling\n",
    "ros = over_sampling.RandomOverSampler(random_state=0)"
   ]
  },
  {
   "cell_type": "code",
   "execution_count": null,
   "metadata": {
    "id": "BoOxPdVrCiNc"
   },
   "outputs": [],
   "source": [
    "X_train, y_train = ros.fit_resample(pd.DataFrame(X_train), pd.Series(y_train))"
   ]
  },
  {
   "cell_type": "code",
   "execution_count": null,
   "metadata": {
    "colab": {
     "base_uri": "https://localhost:8080/"
    },
    "id": "VNmUEBnzEMlb",
    "outputId": "93368dac-f99a-41ca-d401-e8b3da007a09"
   },
   "outputs": [
    {
     "data": {
      "text/plain": [
       "1    34785\n",
       "0    34785\n",
       "dtype: int64"
      ]
     },
     "execution_count": 36,
     "metadata": {
      "tags": []
     },
     "output_type": "execute_result"
    }
   ],
   "source": [
    "pd.Series(y_train).value_counts()"
   ]
  },
  {
   "cell_type": "code",
   "execution_count": null,
   "metadata": {
    "colab": {
     "base_uri": "https://localhost:8080/"
    },
    "id": "c7Mx2qvoQ1BM",
    "outputId": "e36acf4a-10a2-4740-f10b-486d33bb4f80"
   },
   "outputs": [
    {
     "name": "stdout",
     "output_type": "stream",
     "text": [
      "Percent of 1s:  50.0 %\n",
      "Percent of 0s:  50.0 %\n"
     ]
    }
   ],
   "source": [
    "#Distribution of the data in terms of proportions can now be seen as 50 -50\n",
    "print(\"Percent of 1s: \", 100*pd.Series(y_train).value_counts()[1]/pd.Series(y_train).value_counts().sum(), \"%\")\n",
    "print(\"Percent of 0s: \", 100*pd.Series(y_train).value_counts()[0]/pd.Series(y_train).value_counts().sum(), \"%\")"
   ]
  },
  {
   "cell_type": "code",
   "execution_count": null,
   "metadata": {
    "id": "nuT3jwP2Chlg"
   },
   "outputs": [],
   "source": [
    "# vectorizing the sentences\n",
    "from sklearn.feature_extraction.text import CountVectorizer\n",
    "vect = CountVectorizer()"
   ]
  },
  {
   "cell_type": "code",
   "execution_count": null,
   "metadata": {
    "colab": {
     "base_uri": "https://localhost:8080/"
    },
    "id": "X-WXvZwtaUuK",
    "outputId": "8ccabe0a-3da3-42db-c210-1224a2d05220"
   },
   "outputs": [
    {
     "data": {
      "text/plain": [
       "['size weight starter lots people like women wear phone pockets nokia phone 20 appeal larger audience stands good geeks palms baggy clothes',\n",
       " 'great product',\n",
       " 'good',\n",
       " 'galaxy s4 best screen blows apple iphone 5s own love widgets',\n",
       " 'excelent',\n",
       " 'buenisimo los recomiendo ojos cerrados']"
      ]
     },
     "execution_count": 39,
     "metadata": {
      "tags": []
     },
     "output_type": "execute_result"
    }
   ],
   "source": [
    "# The CountVectorizer object, vect takes in a list of string as an argument. to get a list of string from a 2D array,\n",
    "# we convert the 2D array to a dataframe and then convert it to a list.\n",
    "\n",
    "X_train = pd.DataFrame(X_train).iloc[:,0].tolist()\n",
    "\n",
    "#Printing a few samples from the list\n",
    "X_train[:6]"
   ]
  },
  {
   "cell_type": "code",
   "execution_count": null,
   "metadata": {
    "colab": {
     "base_uri": "https://localhost:8080/"
    },
    "id": "u1CrtXWuE03T",
    "outputId": "5ed01aab-a8c7-4e04-cb05-a876d9d8eb6b"
   },
   "outputs": [
    {
     "data": {
      "text/plain": [
       "CountVectorizer(analyzer='word', binary=False, decode_error='strict',\n",
       "                dtype=<class 'numpy.int64'>, encoding='utf-8', input='content',\n",
       "                lowercase=True, max_df=1.0, max_features=None, min_df=1,\n",
       "                ngram_range=(1, 1), preprocessor=None, stop_words=None,\n",
       "                strip_accents=None, token_pattern='(?u)\\\\b\\\\w\\\\w+\\\\b',\n",
       "                tokenizer=None, vocabulary=None)"
      ]
     },
     "execution_count": 40,
     "metadata": {
      "tags": []
     },
     "output_type": "execute_result"
    }
   ],
   "source": [
    "#Fitting X_train into a vectorizer\n",
    "vect.fit(X_train)"
   ]
  },
  {
   "cell_type": "code",
   "execution_count": null,
   "metadata": {
    "id": "IkgugXAGE1Hr"
   },
   "outputs": [],
   "source": [
    "# Transforming the train and test datasets\n",
    "X_train_transformed = vect.transform(X_train)\n",
    "X_test_transformed = vect.transform(X_test)"
   ]
  },
  {
   "cell_type": "markdown",
   "metadata": {
    "id": "hpeIIiavOBxn"
   },
   "source": [
    "## Naive Bayes model with random oversampling\n"
   ]
  },
  {
   "cell_type": "code",
   "execution_count": null,
   "metadata": {
    "id": "fYGJR1lNei4e"
   },
   "outputs": [],
   "source": [
    "from sklearn.model_selection import train_test_split\n",
    "from sklearn.naive_bayes import MultinomialNB"
   ]
  },
  {
   "cell_type": "code",
   "execution_count": null,
   "metadata": {
    "id": "aleP_578fFM-"
   },
   "outputs": [],
   "source": [
    "# training the NB model and making predictions\n",
    "from sklearn.naive_bayes import MultinomialNB\n",
    "mnb = MultinomialNB()\n",
    "\n",
    "# fit\n",
    "mnb.fit(X_train_transformed,y_train)\n",
    "\n",
    "# Training dataset\n",
    "y_pred_train = mnb.predict(X_train_transformed)\n",
    "y_pred_proba_tr = mnb.predict_proba(X_train_transformed)\n",
    "\n",
    "# Testing dataset\n",
    "y_pred = mnb.predict(X_test_transformed)\n",
    "y_pred_proba = mnb.predict_proba(X_test_transformed)"
   ]
  },
  {
   "cell_type": "code",
   "execution_count": null,
   "metadata": {
    "colab": {
     "base_uri": "https://localhost:8080/"
    },
    "id": "2Kpsudh6f6pB",
    "outputId": "dc39fbae-51de-4e91-cc41-d0b2f88d2d44"
   },
   "outputs": [
    {
     "data": {
      "text/plain": [
       "MultinomialNB(alpha=1.0, class_prior=None, fit_prior=True)"
      ]
     },
     "execution_count": 46,
     "metadata": {
      "tags": []
     },
     "output_type": "execute_result"
    }
   ],
   "source": [
    "# note that alpha=1 is used by default for smoothing\n",
    "mnb"
   ]
  },
  {
   "cell_type": "markdown",
   "metadata": {
    "id": "lKA20IN6UMVV"
   },
   "source": [
    "## Model evaluation on the test data set"
   ]
  },
  {
   "cell_type": "code",
   "execution_count": null,
   "metadata": {
    "id": "MeBFr6IOh2h-"
   },
   "outputs": [],
   "source": [
    "from sklearn import metrics\n",
    "from sklearn.metrics import classification_report, confusion_matrix"
   ]
  },
  {
   "cell_type": "code",
   "execution_count": null,
   "metadata": {
    "colab": {
     "base_uri": "https://localhost:8080/"
    },
    "id": "KeSb-kCFHOdd",
    "outputId": "ff577780-85d4-442f-a73e-adf45f9a64ef"
   },
   "outputs": [
    {
     "name": "stdout",
     "output_type": "stream",
     "text": [
      "Accuracy for test set is:  0.8766061858332795\n",
      "Accuracy for train set is:  0.8910018686215323\n"
     ]
    }
   ],
   "source": [
    "# printing the overall accuracy\n",
    "from sklearn import metrics\n",
    "print(\"Accuracy for test set is: \", metrics.accuracy_score(y_test, y_pred))\n",
    "print(\"Accuracy for train set is: \", metrics.accuracy_score(y_train, y_pred_train))"
   ]
  },
  {
   "cell_type": "code",
   "execution_count": null,
   "metadata": {
    "colab": {
     "base_uri": "https://localhost:8080/",
     "height": 282
    },
    "id": "Ez-29tEuh8Xe",
    "outputId": "c88409ac-c34d-44a3-c7a1-d0fc6d791a21"
   },
   "outputs": [
    {
     "name": "stdout",
     "output_type": "stream",
     "text": [
      "Confusion matrix for train and test set\n"
     ]
    },
    {
     "data": {
      "image/png": "[encoded data removed]",
      "text/plain": [
       "<Figure size 864x288 with 4 Axes>"
      ]
     },
     "metadata": {
      "needs_background": "light",
      "tags": []
     },
     "output_type": "display_data"
    }
   ],
   "source": [
    "#Confusion matrix for the train data\n",
    "import seaborn as sns\n",
    "import matplotlib.pyplot as plt\n",
    "\n",
    "print(\"Confusion matrix for train and test set\")\n",
    "\n",
    "plt.figure(figsize=(12,4))\n",
    "\n",
    "plt.subplot(1,2,1)\n",
    "# confusion matrix for train set\n",
    "cm_train = metrics.confusion_matrix(y_train, y_pred_train)\n",
    "sns.heatmap(cm_train/np.sum(cm_train), annot=True , fmt = ' .2%')\n",
    "# help(metrics.confusion_matrix)\n",
    "\n",
    "plt.subplot(1,2,2)\n",
    "# confusion matrix for the test data\n",
    "cm_test = metrics.confusion_matrix(y_test, y_pred)\n",
    "sns.heatmap(cm_test/np.sum(cm_test), annot=True , fmt = ' .2%')\n",
    "\n",
    "plt.show()\n"
   ]
  },
  {
   "cell_type": "code",
   "execution_count": null,
   "metadata": {
    "id": "mRBC9hgUVM59"
   },
   "outputs": [],
   "source": [
    "# creating an ROC curve\n",
    "# from sklearn.metrics import confusion_matrix as sk_confusion_matrix\n",
    "from sklearn.metrics import roc_curve, auc\n",
    "import matplotlib.pyplot as plt\n",
    "\n",
    "#for test set\n",
    "false_positive_rate, true_positive_rate, thresholds = roc_curve(y_test, y_pred_proba[:,1])\n",
    "roc_auc = auc(false_positive_rate, true_positive_rate)\n",
    "#for train set\n",
    "false_positive_rate_tr, true_positive_rate_tr, thresholds_tr = roc_curve(y_train, y_pred_proba_tr[:,1])\n",
    "roc_auc_tr = auc(false_positive_rate, true_positive_rate)"
   ]
  },
  {
   "cell_type": "code",
   "execution_count": null,
   "metadata": {
    "colab": {
     "base_uri": "https://localhost:8080/"
    },
    "id": "Zf9RBSfSVM5_",
    "outputId": "b54a4842-32f2-4072-9b15-3b6cf008b514"
   },
   "outputs": [
    {
     "name": "stdout",
     "output_type": "stream",
     "text": [
      "for train set:  0.897884388935922\n",
      "for test set:  0.897884388935922\n"
     ]
    }
   ],
   "source": [
    "# area under the curve\n",
    "print (\"for train set: \",roc_auc_tr)\n",
    "print (\"for test set: \",roc_auc)"
   ]
  },
  {
   "cell_type": "code",
   "execution_count": null,
   "metadata": {
    "colab": {
     "base_uri": "https://localhost:8080/",
     "height": 312
    },
    "id": "gYvY-fBKVM6C",
    "outputId": "41b12387-9035-4c4c-feae-91ca01c8ea7a"
   },
   "outputs": [
    {
     "data": {
      "text/plain": [
       "[<matplotlib.lines.Line2D at 0x7fd84f5242b0>]"
      ]
     },
     "execution_count": 53,
     "metadata": {
      "tags": []
     },
     "output_type": "execute_result"
    },
    {
     "data": {
      "image/png": "[encoded data removed]",
      "text/plain": [
       "<Figure size 432x288 with 1 Axes>"
      ]
     },
     "metadata": {
      "needs_background": "light",
      "tags": []
     },
     "output_type": "display_data"
    }
   ],
   "source": [
    "# plotting the ROC curve\n",
    "%matplotlib inline  \n",
    "plt.ylabel('True Positive Rate')\n",
    "plt.xlabel('False Positive Rate')\n",
    "plt.title('ROC')\n",
    "plt.plot(false_positive_rate, true_positive_rate)"
   ]
  },
  {
   "cell_type": "code",
   "execution_count": null,
   "metadata": {
    "colab": {
     "base_uri": "https://localhost:8080/",
     "height": 312
    },
    "id": "ZgUWFCv5VM6E",
    "outputId": "ceec7620-caf4-4b39-e2a6-cb7313375711"
   },
   "outputs": [
    {
     "data": {
      "text/plain": [
       "[<matplotlib.lines.Line2D at 0x7fd84f8f3e10>]"
      ]
     },
     "execution_count": 54,
     "metadata": {
      "tags": []
     },
     "output_type": "execute_result"
    },
    {
     "data": {
      "image/png": "[encoded data removed]",
      "text/plain": [
       "<Figure size 432x288 with 1 Axes>"
      ]
     },
     "metadata": {
      "needs_background": "light",
      "tags": []
     },
     "output_type": "display_data"
    }
   ],
   "source": [
    "# plotting the ROC curve\n",
    "%matplotlib inline  \n",
    "plt.ylabel('True Positive Rate')\n",
    "plt.xlabel('False Positive Rate')\n",
    "plt.title('ROC')\n",
    "plt.plot(false_positive_rate_tr, true_positive_rate_tr)"
   ]
  },
  {
   "cell_type": "code",
   "execution_count": null,
   "metadata": {
    "id": "dH8aKMVVmvAL"
   },
   "outputs": [],
   "source": [
    "# storing the values in variables\n",
    "#for test set\n",
    "TN = cm_test[0, 0]\n",
    "FP = cm_test[0, 1]\n",
    "FN = cm_test[1, 0]\n",
    "TP = cm_test[1, 1]\n",
    "#For train set\n",
    "TN_tr = cm_train[0, 0]\n",
    "FP_tr = cm_train[0, 1]\n",
    "FN_tr = cm_train[1, 0]\n",
    "TP_tr = cm_train[1, 1]"
   ]
  },
  {
   "cell_type": "code",
   "execution_count": null,
   "metadata": {
    "colab": {
     "base_uri": "https://localhost:8080/"
    },
    "id": "7VUF2hPwXi6j",
    "outputId": "b2ab8a65-b3f4-48b8-efa2-2229a6925fb7"
   },
   "outputs": [
    {
     "name": "stdout",
     "output_type": "stream",
     "text": [
      "specificity for train set:  0.8841167169757079\n",
      "specificity for test set:  0.8241927216811892\n"
     ]
    }
   ],
   "source": [
    "#specificity for test and train set.\n",
    "specificity_tr = TN_tr / float(TN_tr + FP_tr)\n",
    "print(\"specificity for train set: \",specificity_tr)\n",
    "specificity = TN / float(TN + FP)\n",
    "print(\"specificity for test set: \",specificity)"
   ]
  },
  {
   "cell_type": "code",
   "execution_count": null,
   "metadata": {
    "colab": {
     "base_uri": "https://localhost:8080/"
    },
    "id": "ud9t5R-VVM51",
    "outputId": "f6933dd9-c2f3-4143-b3e3-79974840b9b2"
   },
   "outputs": [
    {
     "name": "stdout",
     "output_type": "stream",
     "text": [
      "sensitivity for train set:  0.9509710832973672\n",
      "sensitivity for test set:  0.8942598187311178\n"
     ]
    }
   ],
   "source": [
    "#Calculating the Sensitivity for train and test set\n",
    "sensitivity_tr = TP_tr / float(FN_tr + TP_tr)\n",
    "print(\"sensitivity for train set: \",sensitivity)\n",
    "sensitivity = TP / float(FN + TP)\n",
    "print(\"sensitivity for test set: \",sensitivity)"
   ]
  },
  {
   "cell_type": "markdown",
   "metadata": {
    "id": "bMQQ-odnTEft"
   },
   "source": [
    "The test sensitivity and specificity of the model without oversampling were 0.95 and 0.61 respectively. The application of oversampling model has resulted in an equal distribution of the binary labels. This has resulted in a jump in specificity by 0.21 with a slight decrease in the sensitivity by 0.06. From a business point of view, we can say that this is a better model as compared to the one that was built without oversampling.\n",
    "\n",
    "\n",
    "\n",
    "\n",
    "\n"
   ]
  },
  {
   "cell_type": "code",
   "execution_count": null,
   "metadata": {
    "colab": {
     "base_uri": "https://localhost:8080/"
    },
    "id": "P0VUdK1JVM6F",
    "outputId": "01958092-92e0-4752-88e8-82bb3d1bf6ba"
   },
   "outputs": [
    {
     "name": "stdout",
     "output_type": "stream",
     "text": [
      "report for train set\n",
      "              precision    recall  f1-score   support\n",
      "\n",
      "           0       0.90      0.88      0.89     34785\n",
      "           1       0.89      0.90      0.89     34785\n",
      "\n",
      "    accuracy                           0.89     69570\n",
      "   macro avg       0.89      0.89      0.89     69570\n",
      "weighted avg       0.89      0.89      0.89     69570\n",
      "\n",
      "report for test set\n",
      "              precision    recall  f1-score   support\n",
      "\n",
      "           0       0.72      0.82      0.77      3902\n",
      "           1       0.94      0.89      0.92     11585\n",
      "\n",
      "    accuracy                           0.88     15487\n",
      "   macro avg       0.83      0.86      0.84     15487\n",
      "weighted avg       0.88      0.88      0.88     15487\n",
      "\n"
     ]
    }
   ],
   "source": [
    "# Printing the classufication report\n",
    "print(\"report for train set\")\n",
    "print(classification_report(y_train, y_pred_train))\n",
    "print(\"report for test set\")\n",
    "print(classification_report(y_test, y_pred))\n"
   ]
  },
  {
   "cell_type": "code",
   "execution_count": null,
   "metadata": {
    "id": "D58vQJv6HaNd"
   },
   "outputs": [],
   "source": []
  },
  {
   "cell_type": "code",
   "execution_count": null,
   "metadata": {
    "id": "L56FX9Vb7Gzh"
   },
   "outputs": [],
   "source": []
  }
 ],
 "metadata": {
  "colab": {
   "collapsed_sections": [],
   "name": "Capstone_solution_3.ipynb",
   "provenance": []
  },
  "kernelspec": {
   "display_name": "Python 3 (ipykernel)",
   "language": "python",
   "name": "python3"
  },
  "language_info": {
   "codemirror_mode": {
    "name": "ipython",
    "version": 3
   },
   "file_extension": ".py",
   "mimetype": "text/x-python",
   "name": "python",
   "nbconvert_exporter": "python",
   "pygments_lexer": "ipython3",
   "version": "3.9.13"
  }
 },
 "nbformat": 4,
 "nbformat_minor": 1
}
